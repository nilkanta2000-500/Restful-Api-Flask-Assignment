{
  "nbformat": 4,
  "nbformat_minor": 0,
  "metadata": {
    "colab": {
      "provenance": []
    },
    "kernelspec": {
      "name": "python3",
      "display_name": "Python 3"
    },
    "language_info": {
      "name": "python"
    }
  },
  "cells": [
    {
      "cell_type": "markdown",
      "source": [
        "#**Restful API & Flask Assignment:(Theory Questions & Answers)**\n",
        "\n",
        "\n",
        "\n",
        "1.**What is a RESTful API?**\n",
        "\n",
        "Ans: RESTful API is an application programming interface that adheres to the constraints of REST architecture, using standard HTTP methods to access and manipulate resources.\n",
        "\n",
        "2.**Explain the concept of API specification.**\n",
        "\n",
        "Ans: API specification defines how an API behaves, including endpoints, request/response formats, and protocols, serving as a contract between server and client.\n",
        "\n",
        "3.**What is Flask, and why is it popular for building APIs?**\n",
        "Ans: Flask is a lightweight Python web framework that's easy to use, flexible, and well-suited for building RESTful APIs due to its simplicity and extensive extensions.\n",
        "\n",
        "4.**What is routing in Flask?**\n",
        "\n",
        "Ans: Routing in Flask is the mechanism of mapping URLs to functions, allowing the application to respond to client requests on specific endpoints.\n",
        "\n",
        "5.**How do you create a simple Flask application?**\n",
        "\n",
        "Ans: Import Flask, create an app instance, define routes using decorators, and run the app. Example:\n",
        "from flask import Flask\n",
        "app = Flask(__name__)\n",
        "@app.route('/')\n",
        "def home(): return 'Hello'\n",
        "app.run()\n",
        "\n",
        "6.**What are HTTP methods used in RESTful APIs?**\n",
        "\n",
        "Ans: Common HTTP methods are GET, POST, PUT, DELETE, and PATCH. They correspond to CRUD operations on resources.\n",
        "\n",
        "7.**What is the purpose of the @app.route() decorator in Flask?**\n",
        "\n",
        "Ans: The @app.route() decorator maps a specific URL to a function, enabling the app to respond to HTTP requests on that URL.\n",
        "\n",
        "8.**What is the difference between GET and POST HTTP methods?**\n",
        "\n",
        "Ans: GET retrieves data without modifying it, while POST submits data to the server, typically creating or updating resources.\n",
        "\n",
        "9.**How do you handle errors in Flask APIs?**\n",
        "\n",
        "Ans: Use error handlers with @app.errorhandler or try-except blocks to catch and return custom error responses.\n",
        "\n",
        "10.**How do you connect Flask to a SQL database?**\n",
        "\n",
        "Ans: Use Flask extensions like Flask-SQLAlchemy to configure database URI and bind it to the app context.\n",
        "\n",
        "11.**What is the role of Flask-SQLAlchemy?**\n",
        "\n",
        "Ans: Flask-SQLAlchemy is an ORM extension that simplifies database operations by allowing interaction using Python classes and objects.\n",
        "\n",
        "12.**What are Flask blueprints, and how are they useful?**\n",
        "\n",
        "Ans: Blueprints allow modularization of an app by grouping routes and logic, making large applications\n",
        "more maintainable.\n",
        "\n",
        "13.**What is the purpose of Flask's request object?**\n",
        "\n",
        "Ans: Flasks request object provides access to incoming request data like headers, form data, JSON, and more.\n",
        "\n",
        "14.**How do you create a RESTful API endpoint using Flask?**\n",
        "\n",
        "Ans: Define a route using @app.route(), specify allowed methods, and return JSON response using jsonify.\n",
        "\n",
        "15.**What is the purpose of Flasks jsonify() function?**\n",
        "\n",
        "Ans: jsonify() formats Python dictionaries or lists into JSON responses with appropriate headers.\n",
        "\n",
        "16.**Explain Flasks url_for() function.**\n",
        "\n",
        "Ans: url_for() dynamically builds a URL for a given endpoint, helping avoid hardcoding URLs in templates or redirects.\n",
        "\n",
        "17.**How does Flask handle static files (CSS, JavaScript, etc.)?**\n",
        "\n",
        "Ans: Flask serves static files from the 'static' folder by default and can be accessed using the /static/ route.\n",
        "\n",
        "18.**What is an API specification, and how does it help in building a Flask API?**\n",
        "\n",
        "Ans: It provides a blueprint for how the API should behave and helps in standardizing implementation and documentation.\n",
        "\n",
        "19.**What are HTTP status codes, and why are they important in a Flask API?**\n",
        "\n",
        "Ans: Status codes inform clients about the result of their request (e.g., 200 OK, 404 Not Found, 500 Server Error).\n",
        "\n",
        "20.**How do you handle POST requests in Flask?**\n",
        "\n",
        "Ans: Use request.form or request.get_json() to access submitted data and process it within a route\n",
        "accepting POST method.\n",
        "\n",
        "21.**How would you secure a Flask API?**\n",
        "\n",
        "Ans: Use authentication (token-based, OAuth), input validation, HTTPS, and secure headers to protect the API.\n",
        "\n",
        "22.**What is the significance of the Flask-RESTful extension?**\n",
        "\n",
        "Ans: Flask-RESTful simplifies building REST APIs with Flask by providing tools for resource routing, input parsing, and output formatting.\n",
        "\n",
        "23.**What is the role of Flasks session object?**\n",
        "\n",
        "Ans: The session object stores data across requests for a user, useful for maintaining login state or temporary data."
      ],
      "metadata": {
        "id": "OjChjQRk5VBB"
      }
    },
    {
      "cell_type": "markdown",
      "source": [
        "#**Restful API & Flask Assignment:(Practical Questions & Answers)**"
      ],
      "metadata": {
        "id": "MT-7ptsnAkDL"
      }
    },
    {
      "cell_type": "markdown",
      "source": [
        "1.**How do you create a basic Flask application?**"
      ],
      "metadata": {
        "id": "JBF6jaEcB5bI"
      }
    },
    {
      "cell_type": "code",
      "source": [
        "from flask import Flask\n",
        "app = Flask(__name__)\n",
        "@app.route('/')\n",
        "def home():\n",
        " return 'Hello, Flask!'\n",
        "if __name__ == '__main__':\n",
        " app.run(debug=True)"
      ],
      "metadata": {
        "colab": {
          "base_uri": "https://localhost:8080/"
        },
        "id": "q9bmiH0FLzhx",
        "outputId": "335dcf35-c8c6-4ee7-c1df-4cba445195dc"
      },
      "execution_count": null,
      "outputs": [
        {
          "output_type": "stream",
          "name": "stdout",
          "text": [
            " * Serving Flask app '__main__'\n",
            " * Debug mode: on\n"
          ]
        },
        {
          "output_type": "stream",
          "name": "stderr",
          "text": [
            "INFO:werkzeug:\u001b[31m\u001b[1mWARNING: This is a development server. Do not use it in a production deployment. Use a production WSGI server instead.\u001b[0m\n",
            " * Running on http://127.0.0.1:5000\n",
            "INFO:werkzeug:\u001b[33mPress CTRL+C to quit\u001b[0m\n",
            "INFO:werkzeug: * Restarting with stat\n"
          ]
        }
      ]
    },
    {
      "cell_type": "markdown",
      "source": [
        "2.**How do you serve static files like images or CSS in Flask?**"
      ],
      "metadata": {
        "id": "lpbNnABUD7Ng"
      }
    },
    {
      "cell_type": "code",
      "source": [
        "<link rel=\"stylesheet\" href=\"{{ url_for('static', filename='style.css') }}\">\n",
        "<img src=\"{{ url_for('static', filename='image.png') }}\">"
      ],
      "metadata": {
        "colab": {
          "base_uri": "https://localhost:8080/",
          "height": 106
        },
        "id": "6E0NTaHoMGRr",
        "outputId": "7302a4ec-035c-4fb2-f7cd-a0a4da6a3ec7"
      },
      "execution_count": null,
      "outputs": [
        {
          "output_type": "error",
          "ename": "SyntaxError",
          "evalue": "invalid syntax (<ipython-input-14-cf8f1c48c0e6>, line 1)",
          "traceback": [
            "\u001b[0;36m  File \u001b[0;32m\"<ipython-input-14-cf8f1c48c0e6>\"\u001b[0;36m, line \u001b[0;32m1\u001b[0m\n\u001b[0;31m    <link rel=\"stylesheet\" href=\"{{ url_for('static', filename='style.css') }}\">\u001b[0m\n\u001b[0m    ^\u001b[0m\n\u001b[0;31mSyntaxError\u001b[0m\u001b[0;31m:\u001b[0m invalid syntax\n"
          ]
        }
      ]
    },
    {
      "cell_type": "markdown",
      "source": [
        "3. How do you define different routes with different HTTP methods in Flask?"
      ],
      "metadata": {
        "id": "71TNX-zaN5lx"
      }
    },
    {
      "cell_type": "code",
      "source": [
        "from flask import Flask\n",
        "app = Flask(__name__)\n",
        "@app.route('/submit', methods=['GET', 'POST'])\n",
        "def submit():\n",
        "    if request.method == 'POST':\n",
        "        return 'Form submitted!'\n",
        "    return 'Submit the form.'\n"
      ],
      "metadata": {
        "id": "oy_ugN4XO4Pe"
      },
      "execution_count": null,
      "outputs": []
    },
    {
      "cell_type": "markdown",
      "source": [
        "4. How do you render HTML templates in Flask?\n"
      ],
      "metadata": {
        "id": "h_T0GYYVPEJL"
      }
    },
    {
      "cell_type": "code",
      "source": [
        "from flask import Flask, render_template\n",
        "\n",
        "app = Flask(__name__)\n",
        "\n",
        "@app.route('/submit', methods=['GET', 'POST'])\n",
        "def submit():\n",
        "    if request.method == 'POST':\n",
        "        return 'Form submitted!'\n",
        "    return 'Submit the form.'\n",
        "\n",
        "@app.route('/') # This route is likely causing the conflict\n",
        "def home():\n",
        "    return render_template('index.html')\n",
        "\n",
        "if __name__ == '__main__':\n",
        "    app.run(debug=True)"
      ],
      "metadata": {
        "colab": {
          "base_uri": "https://localhost:8080/"
        },
        "id": "Ba1E2M4dPUP7",
        "outputId": "4d4fa02b-defa-46de-83b3-e4601f68c342"
      },
      "execution_count": null,
      "outputs": [
        {
          "output_type": "stream",
          "name": "stdout",
          "text": [
            " * Serving Flask app '__main__'\n",
            " * Debug mode: on\n"
          ]
        },
        {
          "output_type": "stream",
          "name": "stderr",
          "text": [
            "INFO:werkzeug:\u001b[31m\u001b[1mWARNING: This is a development server. Do not use it in a production deployment. Use a production WSGI server instead.\u001b[0m\n",
            " * Running on http://127.0.0.1:5000\n",
            "INFO:werkzeug:\u001b[33mPress CTRL+C to quit\u001b[0m\n",
            "INFO:werkzeug: * Restarting with stat\n"
          ]
        }
      ]
    },
    {
      "cell_type": "markdown",
      "source": [
        "5. How can you generate URLs for routes in Flask using url_for?"
      ],
      "metadata": {
        "id": "cbCTl0nDPnB9"
      }
    },
    {
      "cell_type": "code",
      "source": [
        "from flask import Flask, url_for, render_template\n",
        "\n",
        "app = Flask(__name__)\n",
        "\n",
        "@app.route('/submit', methods=['GET', 'POST'])\n",
        "def submit():\n",
        "    if request.method == 'POST':\n",
        "        return 'Form submitted!'\n",
        "    return 'Submit the form.'\n",
        "\n",
        "@app.route('/') # This route is likely causing the conflict\n",
        "def home():\n",
        "from flask import Flask, url_for, render_template, request\n",
        "\n",
        "app = Flask(__name__)\n",
        "\n",
        "@app.route('/submit', methods=['GET', 'POST'])\n",
        "def submit():\n",
        "    if request.method == 'POST':\n",
        "        return 'Form submitted!'\n",
        "    return 'Submit the form.'\n",
        "\n",
        "@app.route('/') # This route is likely causing the conflict\n",
        "def home():\n",
        "    return render_template('index.html')\n",
        "\n",
        "if __name__ == \"__main__\":\n",
        "    app.run(debug=True)"
      ],
      "metadata": {
        "colab": {
          "base_uri": "https://localhost:8080/",
          "height": 106
        },
        "id": "l_gAvP8YQJI4",
        "outputId": "2761ef9d-cd58-4ed7-f8fd-f773fdfededf"
      },
      "execution_count": null,
      "outputs": [
        {
          "output_type": "error",
          "ename": "IndentationError",
          "evalue": "expected an indented block after function definition on line 12 (<ipython-input-37-c9a15bb8fec2>, line 13)",
          "traceback": [
            "\u001b[0;36m  File \u001b[0;32m\"<ipython-input-37-c9a15bb8fec2>\"\u001b[0;36m, line \u001b[0;32m13\u001b[0m\n\u001b[0;31m    from flask import Flask, url_for, render_template, request\u001b[0m\n\u001b[0m    ^\u001b[0m\n\u001b[0;31mIndentationError\u001b[0m\u001b[0;31m:\u001b[0m expected an indented block after function definition on line 12\n"
          ]
        }
      ]
    },
    {
      "cell_type": "markdown",
      "source": [
        "6. How do you handle forms in Flask?"
      ],
      "metadata": {
        "id": "0JUIKuPdQbu6"
      }
    },
    {
      "cell_type": "code",
      "source": [
        "from flask import Flask, request\n",
        "\n",
        "app = Flask(__name__)\n",
        "\n",
        "@app.route('/')\n",
        "def home():\n",
        "    return 'Hello, Flask!'\n",
        "\n",
        "@app.route('/submit', methods=['GET', 'POST'])\n",
        "def submit():\n",
        "    if request.method == 'POST':\n",
        "        return 'Form submitted!'\n",
        "    return 'Submit the form.'\n",
        "\n",
        "@app.route('/form', methods=['POST'])\n",
        "def form():\n",
        "    name = request.form['name']\n",
        "    return f\"Hello, {name}!\"  # Added a return statement to display the name\n",
        "\n",
        "if __name__ == '__main__':\n",
        "    app.run(debug=True)"
      ],
      "metadata": {
        "colab": {
          "base_uri": "https://localhost:8080/"
        },
        "id": "c64WrK7QQxnm",
        "outputId": "66834abb-f2a6-4b87-9e3b-d260655ae069"
      },
      "execution_count": null,
      "outputs": [
        {
          "output_type": "stream",
          "name": "stdout",
          "text": [
            " * Serving Flask app '__main__'\n",
            " * Debug mode: on\n"
          ]
        },
        {
          "output_type": "stream",
          "name": "stderr",
          "text": [
            "INFO:werkzeug:\u001b[31m\u001b[1mWARNING: This is a development server. Do not use it in a production deployment. Use a production WSGI server instead.\u001b[0m\n",
            " * Running on http://127.0.0.1:5000\n",
            "INFO:werkzeug:\u001b[33mPress CTRL+C to quit\u001b[0m\n",
            "INFO:werkzeug: * Restarting with stat\n"
          ]
        }
      ]
    },
    {
      "cell_type": "markdown",
      "source": [
        "7. How can you validate form data in Flask?\n"
      ],
      "metadata": {
        "id": "qCmD3FB2ROd3"
      }
    },
    {
      "cell_type": "code",
      "source": [
        "if not request.form.get('email'):\n",
        "    return 'Email is required!'"
      ],
      "metadata": {
        "colab": {
          "base_uri": "https://localhost:8080/",
          "height": 106
        },
        "id": "-71lGznMRknq",
        "outputId": "e7577a7d-d79d-4dbe-86fc-a1fa955cd3be"
      },
      "execution_count": null,
      "outputs": [
        {
          "output_type": "error",
          "ename": "SyntaxError",
          "evalue": "'return' outside function (<ipython-input-48-1c42c231eaef>, line 2)",
          "traceback": [
            "\u001b[0;36m  File \u001b[0;32m\"<ipython-input-48-1c42c231eaef>\"\u001b[0;36m, line \u001b[0;32m2\u001b[0m\n\u001b[0;31m    return 'Email is required!'\u001b[0m\n\u001b[0m    ^\u001b[0m\n\u001b[0;31mSyntaxError\u001b[0m\u001b[0;31m:\u001b[0m 'return' outside function\n"
          ]
        }
      ]
    },
    {
      "cell_type": "markdown",
      "source": [
        "8. How do you manage sessions in Flask?\n"
      ],
      "metadata": {
        "id": "sXScUsh0RzfI"
      }
    },
    {
      "cell_type": "code",
      "source": [
        "from flask import Flask, request, render_template, url_for, session\n",
        "\n",
        "app = Flask(__name__)\n",
        "app.secret_key = 'secret' # Secret key for session management\n",
        "\n",
        "\n",
        "@app.route('/')\n",
        "def home():\n",
        "    return 'Hello, Flask!'\n",
        "\n",
        "@app.route('/submit', methods=['GET', 'POST'])\n",
        "def submit():\n",
        "    if request.method == 'POST':\n",
        "        return 'Form submitted!'\n",
        "    return 'Submit the form.'\n",
        "\n",
        "@app.route('/form', methods=['POST'])\n",
        "def form():\n",
        "    name = request.form['name']\n",
        "    return f\"Hello, {name}!\"\n",
        "\n",
        "# Add routes for session management\n",
        "@app.route('/set/')\n",
        "def set_session():\n",
        "    session['user'] = 'Alice'\n",
        "    return 'Session set!'\n",
        "\n",
        "@app.route('/get/')\n",
        "def get_session():\n",
        "    return session.get('user', 'Not set')\n",
        "\n",
        "# Example of an HTML rendering route. Requires 'templates/index.html' file\n",
        "@app.route('/template')\n",
        "def template():\n",
        "    return render_template('index.html')\n",
        "\n",
        "if __name__ == '__main__':\n",
        "    app.run(debug=True)"
      ],
      "metadata": {
        "colab": {
          "base_uri": "https://localhost:8080/"
        },
        "id": "REBQprrFSCJU",
        "outputId": "74f4acb4-51b4-4cd2-c497-86323f71d525"
      },
      "execution_count": null,
      "outputs": [
        {
          "output_type": "stream",
          "name": "stdout",
          "text": [
            " * Serving Flask app '__main__'\n",
            " * Debug mode: on\n"
          ]
        },
        {
          "output_type": "stream",
          "name": "stderr",
          "text": [
            "INFO:werkzeug:\u001b[31m\u001b[1mWARNING: This is a development server. Do not use it in a production deployment. Use a production WSGI server instead.\u001b[0m\n",
            " * Running on http://127.0.0.1:5000\n",
            "INFO:werkzeug:\u001b[33mPress CTRL+C to quit\u001b[0m\n",
            "INFO:werkzeug: * Restarting with stat\n"
          ]
        }
      ]
    },
    {
      "cell_type": "markdown",
      "source": [
        "9. How do you redirect to a different route in Flask?"
      ],
      "metadata": {
        "id": "fiaGjLJWSKV-"
      }
    },
    {
      "cell_type": "code",
      "source": [
        "from flask import Flask, request, render_template, url_for, session, redirect\n",
        "\n",
        "app = Flask(__name__)\n",
        "app.secret_key = 'secret' # Secret key for session management\n",
        "\n",
        "\n",
        "@app.route('/')\n",
        "def home():\n",
        "    return 'Hello, Flask!'\n",
        "\n",
        "@app.route('/submit', methods=['GET', 'POST'])\n",
        "def submit():\n",
        "    if request.method == 'POST':\n",
        "        return 'Form submitted!'\n",
        "from flask import Flask, request, render_template, url_for, session, redirect\n",
        "\n",
        "app = Flask(__name__)\n",
        "app.secret_key = 'secret' # Secret key for session management\n",
        "\n",
        "\n",
        "@app.route('/')\n",
        "def home():\n",
        "    return 'Hello, Flask!'\n",
        "\n",
        "@app.route('/submit', methods=['GET', 'POST'])\n",
        "def submit():\n",
        "    if request.method == 'POST':\n",
        "        return 'Form submitted!'\n",
        "    return 'Submit the form.'\n",
        "\n",
        "@app.route('/form', methods=['POST'])\n",
        "def form():\n",
        "    return \"\""
      ],
      "metadata": {
        "id": "hXrlWENYScTe"
      },
      "execution_count": null,
      "outputs": []
    },
    {
      "cell_type": "markdown",
      "source": [
        "10. How do you handle errors in Flask (e.g., 404)?\n"
      ],
      "metadata": {
        "id": "VNF4feU2Sp7_"
      }
    },
    {
      "cell_type": "code",
      "source": [
        "@app.errorhandler(404)\n",
        "def page_not_found(e):\n",
        " return 'Page not found', 404"
      ],
      "metadata": {
        "id": "worY4cVzS0I3"
      },
      "execution_count": null,
      "outputs": []
    },
    {
      "cell_type": "markdown",
      "source": [
        "11. How do you structure a Flask app using Blueprints?"
      ],
      "metadata": {
        "id": "aFulB4dhTI4Y"
      }
    },
    {
      "cell_type": "code",
      "source": [
        "# In user.py\n",
        "from flask import Blueprint\n",
        "user_bp = Blueprint('user_profile_unique_1', __name__) # Changed blueprint name to 'user_profile_unique_1'\n",
        "@user_bp.route('/profile')\n",
        "def profile():\n",
        " return 'User Profile'\n",
        "# In main app\n",
        "app.register_blueprint(user_bp)"
      ],
      "metadata": {
        "id": "-86fbKZmT6y8"
      },
      "execution_count": null,
      "outputs": []
    },
    {
      "cell_type": "markdown",
      "source": [
        "12. How do you define a custom Jinja filter in Flask?"
      ],
      "metadata": {
        "id": "aTQ69yFrT9od"
      }
    },
    {
      "cell_type": "code",
      "source": [
        "@app.template_filter('capitalize')\n",
        "@app.template_filter('capitalize')\n",
        "def capitalize_filter(s):\n",
        "    return s.capitalize()\n",
        "# In template: `{{ 'hello' | capitalize }}`"
      ],
      "metadata": {
        "id": "E9ZFQw5BUA79"
      },
      "execution_count": null,
      "outputs": []
    },
    {
      "cell_type": "markdown",
      "source": [
        "13. How can you redirect with query parameters in Flask?"
      ],
      "metadata": {
        "id": "prDvrQgCUM3a"
      }
    },
    {
      "cell_type": "code",
      "source": [
        "return redirect(url_for('search', q='flask'))"
      ],
      "metadata": {
        "colab": {
          "base_uri": "https://localhost:8080/",
          "height": 106
        },
        "id": "5gP_IbJjUNym",
        "outputId": "e2dfe860-e36f-49a3-da44-e98eac667744"
      },
      "execution_count": null,
      "outputs": [
        {
          "output_type": "error",
          "ename": "SyntaxError",
          "evalue": "'return' outside function (<ipython-input-85-4f05c7e40cb8>, line 1)",
          "traceback": [
            "\u001b[0;36m  File \u001b[0;32m\"<ipython-input-85-4f05c7e40cb8>\"\u001b[0;36m, line \u001b[0;32m1\u001b[0m\n\u001b[0;31m    return redirect(url_for('search', q='flask'))\u001b[0m\n\u001b[0m    ^\u001b[0m\n\u001b[0;31mSyntaxError\u001b[0m\u001b[0;31m:\u001b[0m 'return' outside function\n"
          ]
        }
      ]
    },
    {
      "cell_type": "markdown",
      "source": [
        "14. How do you return JSON responses in Flask?"
      ],
      "metadata": {
        "id": "vyP76Dq0Umjc"
      }
    },
    {
      "cell_type": "code",
      "source": [
        "from flask import Flask, jsonify\n",
        "\n",
        "# Assuming 'app' is your Flask application instance\n",
        "# If not, create one: app = Flask(__name__)\n",
        "\n",
        "# Check if a route with endpoint 'data' already exists\n",
        "if 'data' not in app.view_functions:\n",
        "    @app.route('/data')\n",
        "    def data():\n",
        "        return jsonify({'name': 'Alice', 'age': 30})\n",
        "else:\n",
        "    print(\"Route '/data' already defined. Skipping re-definition.\")"
      ],
      "metadata": {
        "colab": {
          "base_uri": "https://localhost:8080/"
        },
        "id": "s_3KL5A0U4ll",
        "outputId": "fb0a1f4e-8475-45cd-dc54-df96e94ee407"
      },
      "execution_count": null,
      "outputs": [
        {
          "output_type": "stream",
          "name": "stdout",
          "text": [
            "Route '/data' already defined. Skipping re-definition.\n"
          ]
        }
      ]
    },
    {
      "cell_type": "markdown",
      "source": [
        "15. How do you capture URL parameters in Flask?"
      ],
      "metadata": {
        "id": "anwfoMwZWYI2"
      }
    },
    {
      "cell_type": "code",
      "source": [
        "from flask import Flask  # Corrected import statement\n",
        "app = Flask(__name__)\n",
        "@app.route('/user/<username>')\n",
        "def show_user_profile(username):\n",
        " return f'user:, {username}'"
      ],
      "metadata": {
        "id": "jn_cSC57XKAg"
      },
      "execution_count": null,
      "outputs": []
    }
  ]
}